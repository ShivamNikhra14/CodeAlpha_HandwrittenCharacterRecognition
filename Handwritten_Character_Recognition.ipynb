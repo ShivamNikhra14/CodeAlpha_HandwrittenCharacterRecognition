{
 "cells": [
  {
   "cell_type": "markdown",
   "id": "327cee2e-bbe0-4b31-8313-47e015ffc614",
   "metadata": {},
   "source": [
    "# Handwritten Digit and Letter Recognition with CNN (MNIST + EMNIST)\n",
    "### This notebook trains a convolutional neural network (CNN) to recognize both handwritten digits (0–9) from the MNIST dataset and uppercase letters (A–Z) from the EMNIST dataset."
   ]
  },
  {
   "cell_type": "markdown",
   "id": "a0ec1467-388b-482d-9c6c-e55ad6320e09",
   "metadata": {},
   "source": [
    "## Import Libraries"
   ]
  },
  {
   "cell_type": "code",
   "execution_count": 1,
   "id": "2dd851ec-09be-4064-afd2-a6020516e098",
   "metadata": {},
   "outputs": [],
   "source": [
    "# ---------------------------\n",
    "# 1. Imports\n",
    "# ---------------------------\n",
    "import torch\n",
    "import torchvision\n",
    "import torchvision.transforms as transforms\n",
    "import matplotlib.pyplot as plt\n",
    "from torch import nn, optim\n",
    "from torch.utils.data import DataLoader, ConcatDataset, Dataset"
   ]
  },
  {
   "cell_type": "markdown",
   "id": "9d51e1ac-4146-4b34-845e-4779aedc96e1",
   "metadata": {},
   "source": [
    "## Define Image Transforms\n",
    "### MNIST: Normalize pixel values to [-1, 1].\n",
    "### EMNIST: Rotate and flip images to correct orientation, then normalize."
   ]
  },
  {
   "cell_type": "code",
   "execution_count": 2,
   "id": "9f21a715-8efb-480c-8324-c4b3cec5cba5",
   "metadata": {},
   "outputs": [],
   "source": [
    "# ---------------------------\n",
    "# 2. Define Transforms\n",
    "# ---------------------------\n",
    "\n",
    "# MNIST transform: normalize to [-1, 1]\n",
    "transform_mnist = transforms.Compose([\n",
    "    transforms.ToTensor(),\n",
    "    transforms.Normalize((0.5,), (0.5,))\n",
    "])\n",
    "\n",
    "# EMNIST transform: rotate/transpose so letters are upright, then normalize\n",
    "transform_emnist = transforms.Compose([\n",
    "    transforms.ToTensor(),\n",
    "    transforms.Lambda(lambda x: x.transpose(1, 2).flip(1)),  # fix orientation\n",
    "    transforms.Normalize((0.5,), (0.5,))\n",
    "])"
   ]
  },
  {
   "cell_type": "markdown",
   "id": "3505178d-b645-45eb-86f2-1c6c5e1128ba",
   "metadata": {},
   "source": [
    "## Load Datasets"
   ]
  },
  {
   "cell_type": "code",
   "execution_count": 3,
   "id": "bb3dc013-4755-4eb0-83df-3b154f3c7395",
   "metadata": {},
   "outputs": [
    {
     "name": "stderr",
     "output_type": "stream",
     "text": [
      "100%|██████████████████████████████████████████████████████████████████████████████| 9.91M/9.91M [00:42<00:00, 233kB/s]\n",
      "100%|█████████████████████████████████████████████████████████████████████████████| 28.9k/28.9k [00:00<00:00, 89.4kB/s]\n",
      "100%|██████████████████████████████████████████████████████████████████████████████| 1.65M/1.65M [00:06<00:00, 238kB/s]\n",
      "100%|█████████████████████████████████████████████████████████████████████████████| 4.54k/4.54k [00:00<00:00, 3.46MB/s]\n",
      "100%|███████████████████████████████████████████████████████████████████████████████| 562M/562M [07:47<00:00, 1.20MB/s]\n"
     ]
    }
   ],
   "source": [
    "# ---------------------------\n",
    "# 3. Load Datasets\n",
    "# ---------------------------\n",
    "\n",
    "# 3.1 MNIST (digits 0–9)\n",
    "mnist_train = torchvision.datasets.MNIST(\n",
    "    root='./data',\n",
    "    train=True,\n",
    "    download=True,\n",
    "    transform=transform_mnist\n",
    ")\n",
    "mnist_test = torchvision.datasets.MNIST(\n",
    "    root='./data',\n",
    "    train=False,\n",
    "    download=True,\n",
    "    transform=transform_mnist\n",
    ")\n",
    "\n",
    "# 3.2 EMNIST Letters (labels 1–26 for A–Z)\n",
    "emnist_train = torchvision.datasets.EMNIST(\n",
    "    root='./data',\n",
    "    split='letters',\n",
    "    train=True,\n",
    "    download=True,\n",
    "    transform=transform_emnist\n",
    ")\n",
    "emnist_test = torchvision.datasets.EMNIST(\n",
    "    root='./data',\n",
    "    split='letters',\n",
    "    train=False,\n",
    "    download=True,\n",
    "    transform=transform_emnist\n",
    ")"
   ]
  },
  {
   "cell_type": "markdown",
   "id": "0cec240b-9b39-4e75-a3a1-77e0e40399fe",
   "metadata": {},
   "source": [
    "## Remap Labels\n",
    "### We remap the labels to avoid overlap:\n",
    "### MNIST: 0–9 → stays 0–9\n",
    "### EMNIST Letters: 1–26 → becomes 10–35"
   ]
  },
  {
   "cell_type": "code",
   "execution_count": 4,
   "id": "ea15e2a5-eb66-4ca3-94a8-6bc8acb33271",
   "metadata": {},
   "outputs": [],
   "source": [
    "# ---------------------------\n",
    "# 4. Wrap & Remap Labels\n",
    "# ---------------------------\n",
    "\n",
    "class RemappedDataset(Dataset):\n",
    "    \"\"\"\n",
    "    Wraps an existing dataset and remaps its labels by applying:\n",
    "      new_label = (orig_label + offset)   OR   new_label = (orig_label - 1 + offset)  for EMNIST letters.\n",
    "    \"\"\"\n",
    "    def __init__(self, base_dataset, offset=0, is_emnist_letters=False):\n",
    "        self.base_dataset = base_dataset\n",
    "        self.offset = offset\n",
    "        self.is_emnist = is_emnist_letters\n",
    "\n",
    "    def __len__(self):\n",
    "        return len(self.base_dataset)\n",
    "\n",
    "    def __getitem__(self, idx):\n",
    "        img, label = self.base_dataset[idx]\n",
    "        if self.is_emnist:\n",
    "            # EMNIST Letters labels run 1–26; convert to 0–25, then offset\n",
    "            label = (label - 1) + self.offset\n",
    "        else:\n",
    "            # MNIST labels are already 0–9\n",
    "            label = label + self.offset\n",
    "        return img, label\n",
    "\n",
    "# For MNIST: offset = 0, is_emnist=False\n",
    "mnist_train_wrapped = RemappedDataset(mnist_train, offset=0, is_emnist_letters=False)\n",
    "mnist_test_wrapped  = RemappedDataset(mnist_test,  offset=0, is_emnist_letters=False)\n",
    "\n",
    "# For EMNIST Letters: offset = 10, is_emnist=True\n",
    "# (So A→0→+10 = 10, B→1→+10 = 11, …, Z→25→+10 = 35)\n",
    "emnist_train_wrapped = RemappedDataset(emnist_train, offset=10, is_emnist_letters=True)\n",
    "emnist_test_wrapped  = RemappedDataset(emnist_test,  offset=10, is_emnist_letters=True)\n",
    "\n"
   ]
  },
  {
   "cell_type": "markdown",
   "id": "c7c2db49-1aff-411c-ad50-e74d4ff9c558",
   "metadata": {},
   "source": [
    "## Combine Datasets"
   ]
  },
  {
   "cell_type": "code",
   "execution_count": 5,
   "id": "921b02cf-4098-43d9-bdda-0b6e63fd84e9",
   "metadata": {},
   "outputs": [],
   "source": [
    "# ---------------------------\n",
    "# 5. Combine into ConcatDatasets\n",
    "# ---------------------------\n",
    "\n",
    "train_combined = ConcatDataset([mnist_train_wrapped, emnist_train_wrapped])\n",
    "test_combined  = ConcatDataset([mnist_test_wrapped,  emnist_test_wrapped])"
   ]
  },
  {
   "cell_type": "markdown",
   "id": "dd37b72c-0d2f-4c02-85b6-514671706c37",
   "metadata": {},
   "source": [
    "## Create DataLoaders"
   ]
  },
  {
   "cell_type": "code",
   "execution_count": 6,
   "id": "87580693-8fc8-4605-a6c5-fd1ec0252e90",
   "metadata": {},
   "outputs": [],
   "source": [
    "# ---------------------------\n",
    "# 6. Create DataLoaders\n",
    "# ---------------------------\n",
    "\n",
    "batch_size = 128\n",
    "\n",
    "train_loader = DataLoader(train_combined, batch_size=batch_size, shuffle=True,  num_workers=0)\n",
    "test_loader  = DataLoader(test_combined,  batch_size=batch_size, shuffle=False, num_workers=0)"
   ]
  },
  {
   "cell_type": "markdown",
   "id": "651fcac6-5ee3-4670-9783-c6778e59efd9",
   "metadata": {},
   "source": [
    "## Define the CNN Model"
   ]
  },
  {
   "cell_type": "code",
   "execution_count": 7,
   "id": "4b1ff857-bbe8-41d6-a0ee-bc8d0d47cb5d",
   "metadata": {},
   "outputs": [],
   "source": [
    "# ---------------------------\n",
    "# 7. Define CNN Model (36-way output)\n",
    "# ---------------------------\n",
    "\n",
    "class CNN36(nn.Module):\n",
    "    def __init__(self):\n",
    "        super().__init__()\n",
    "        self.features = nn.Sequential(\n",
    "            nn.Conv2d(1, 32, kernel_size=3, padding=1),  # [1×28×28] → [32×28×28]\n",
    "            nn.ReLU(),\n",
    "            nn.MaxPool2d(2),                              # → [32×14×14]\n",
    "            nn.Conv2d(32, 64, kernel_size=3, padding=1),  # → [64×14×14]\n",
    "            nn.ReLU(),\n",
    "            nn.MaxPool2d(2),                              # → [64×7×7]\n",
    "        )\n",
    "        self.classifier = nn.Sequential(\n",
    "            nn.Flatten(),                                 # → [64*7*7 = 3136]\n",
    "            nn.Dropout(0.5),\n",
    "            nn.Linear(64 * 7 * 7, 128),\n",
    "            nn.ReLU(),\n",
    "            nn.Linear(128, 36)                            # 10 digits + 26 letters = 36 classes\n",
    "        )\n",
    "\n",
    "    def forward(self, x):\n",
    "        x = self.features(x)\n",
    "        x = self.classifier(x)\n",
    "        return x"
   ]
  },
  {
   "cell_type": "markdown",
   "id": "66f12c88-f05b-43b0-a7ab-b5e94d242d82",
   "metadata": {},
   "source": [
    "## Initialize Model, Loss & Optimizer"
   ]
  },
  {
   "cell_type": "code",
   "execution_count": 8,
   "id": "d77d10d8-06bf-42aa-b4d3-290590ee38d1",
   "metadata": {},
   "outputs": [],
   "source": [
    "# ---------------------------\n",
    "# 8. Initialize Model, Loss, Optimizer\n",
    "# ---------------------------\n",
    "\n",
    "device = torch.device('cuda' if torch.cuda.is_available() else 'cpu')\n",
    "model = CNN36().to(device)\n",
    "criterion = nn.CrossEntropyLoss()\n",
    "optimizer = optim.Adam(model.parameters(), lr=0.001)"
   ]
  },
  {
   "cell_type": "markdown",
   "id": "b3c19712-ab4e-4b5f-866d-346247ca717b",
   "metadata": {},
   "source": [
    "## Training Loop"
   ]
  },
  {
   "cell_type": "code",
   "execution_count": 9,
   "id": "a89d09c6-2be2-4a7b-9878-a21d40fd3125",
   "metadata": {},
   "outputs": [
    {
     "name": "stdout",
     "output_type": "stream",
     "text": [
      "Epoch 1/5  —  Training Loss: 0.4913\n",
      "Epoch 2/5  —  Training Loss: 0.2400\n",
      "Epoch 3/5  —  Training Loss: 0.2012\n",
      "Epoch 4/5  —  Training Loss: 0.1810\n",
      "Epoch 5/5  —  Training Loss: 0.1661\n"
     ]
    }
   ],
   "source": [
    "# ---------------------------\n",
    "# 9. Training Loop\n",
    "# ---------------------------\n",
    "\n",
    "epochs = 5\n",
    "for epoch in range(epochs):\n",
    "    model.train()\n",
    "    running_loss = 0.0\n",
    "    for images, labels in train_loader:\n",
    "        images, labels = images.to(device), labels.to(device)\n",
    "\n",
    "        optimizer.zero_grad()\n",
    "        outputs = model(images)                   # shape: [batch_size, 36]\n",
    "        loss = criterion(outputs, labels)\n",
    "        loss.backward()\n",
    "        optimizer.step()\n",
    "\n",
    "        running_loss += loss.item()\n",
    "\n",
    "    avg_loss = running_loss / len(train_loader)\n",
    "    print(f\"Epoch {epoch+1}/{epochs}  —  Training Loss: {avg_loss:.4f}\")"
   ]
  },
  {
   "cell_type": "markdown",
   "id": "44d05f2c-712a-4594-9899-ae0d2f74248c",
   "metadata": {},
   "source": [
    "## Evaluate on Test Set"
   ]
  },
  {
   "cell_type": "code",
   "execution_count": 10,
   "id": "d12a469f-f9df-40d4-adac-01aa550e96d3",
   "metadata": {},
   "outputs": [
    {
     "name": "stdout",
     "output_type": "stream",
     "text": [
      "\n",
      "Test Accuracy (digits + letters): 95.12%\n"
     ]
    }
   ],
   "source": [
    "# ---------------------------\n",
    "# 10. Evaluation on Test Set\n",
    "# ---------------------------\n",
    "\n",
    "model.eval()\n",
    "correct = 0\n",
    "total = 0\n",
    "with torch.no_grad():\n",
    "    for images, labels in test_loader:\n",
    "        images, labels = images.to(device), labels.to(device)\n",
    "        outputs = model(images)\n",
    "        _, predicted = torch.max(outputs, 1)\n",
    "        total += labels.size(0)\n",
    "        correct += (predicted == labels).sum().item()\n",
    "\n",
    "accuracy = 100 * correct / total\n",
    "print(f\"\\nTest Accuracy (digits + letters): {accuracy:.2f}%\")"
   ]
  },
  {
   "cell_type": "markdown",
   "id": "f242adca-5a22-4552-b5be-583141932f6d",
   "metadata": {},
   "source": [
    "## Helper: Map Class Index to Character"
   ]
  },
  {
   "cell_type": "code",
   "execution_count": 11,
   "id": "ee607767-988b-4f37-919c-d791865028f8",
   "metadata": {},
   "outputs": [],
   "source": [
    "# ---------------------------\n",
    "# 11. Helper: Map Class Index to Character\n",
    "# ---------------------------\n",
    "\n",
    "def index_to_char(idx):\n",
    "    \"\"\"\n",
    "    0–9  → '0'–'9'\n",
    "    10–35 → 'A'–'Z'\n",
    "    \"\"\"\n",
    "    if 0 <= idx <= 9:\n",
    "        return str(idx)\n",
    "    else:\n",
    "        return chr(idx - 10 + ord('A'))"
   ]
  },
  {
   "cell_type": "markdown",
   "id": "e096404e-05ee-492b-96d0-eca09ca16d79",
   "metadata": {},
   "source": [
    "## Visualize Predictions"
   ]
  },
  {
   "cell_type": "code",
   "execution_count": 12,
   "id": "cd14b588-fd26-46a4-a124-a886ebaa5afc",
   "metadata": {},
   "outputs": [
    {
     "data": {
      "image/png": "[encoded data removed]",
      "text/plain": [
       "<Figure size 1200x400 with 10 Axes>"
      ]
     },
     "metadata": {},
     "output_type": "display_data"
    }
   ],
   "source": [
    "# ---------------------------\n",
    "# 12. Visualize Some Predictions\n",
    "# ---------------------------\n",
    "\n",
    "def show_predictions(num_samples=10):\n",
    "    model.eval()\n",
    "    images, labels = next(iter(test_loader))\n",
    "    images, labels = images.to(device), labels.to(device)\n",
    "    outputs = model(images)\n",
    "    _, preds = torch.max(outputs, 1)\n",
    "\n",
    "    plt.figure(figsize=(12, 4))\n",
    "    for i in range(num_samples):\n",
    "        plt.subplot(2, num_samples//2, i+1)\n",
    "        img = images[i].cpu().squeeze()\n",
    "        plt.imshow(img, cmap='gray')\n",
    "        true_char = index_to_char(labels[i].item())\n",
    "        pred_char = index_to_char(preds[i].item())\n",
    "        color = 'green' if labels[i] == preds[i] else 'red'\n",
    "        plt.title(f\"T:{true_char}  P:{pred_char}\", color=color)\n",
    "        plt.axis('off')\n",
    "    plt.tight_layout()\n",
    "    plt.show()\n",
    "\n",
    "# Display 10 sample predictions\n",
    "show_predictions(10)"
   ]
  },
  {
   "cell_type": "code",
   "execution_count": 13,
   "id": "ca125ef9-67c5-4251-b409-901d7e11443f",
   "metadata": {},
   "outputs": [],
   "source": [
    "torch.save(model.state_dict(), \"cnn36_model.pth\")"
   ]
  },
  {
   "cell_type": "code",
   "execution_count": null,
   "id": "bbc21463-9641-4cf5-a112-086dbd4a9fab",
   "metadata": {},
   "outputs": [],
   "source": []
  }
 ],
 "metadata": {
  "kernelspec": {
   "display_name": "Python 3 (ipykernel)",
   "language": "python",
   "name": "python3"
  },
  "language_info": {
   "codemirror_mode": {
    "name": "ipython",
    "version": 3
   },
   "file_extension": ".py",
   "mimetype": "text/x-python",
   "name": "python",
   "nbconvert_exporter": "python",
   "pygments_lexer": "ipython3",
   "version": "3.13.1"
  }
 },
 "nbformat": 4,
 "nbformat_minor": 5
}
